{
 "cells": [
  {
   "cell_type": "code",
   "execution_count": 1,
   "metadata": {},
   "outputs": [],
   "source": [
    "import requests\n",
    "from bs4 import BeautifulSoup as bs"
   ]
  },
  {
   "cell_type": "code",
   "execution_count": 27,
   "metadata": {},
   "outputs": [],
   "source": [
    "header = {\n",
    "    'User-Agent':'Mozilla/5.0 (Windows NT 6.1; WOW64) AppleWebKit/537.36 (KHTML, like Gecko) Chrome/69.0.3497.100 Safari/537.36',\n",
    "    'Cookie':'lianjia_uuid=37c5b188-4164-43f1-84a9-c29c0e6d6b6e; lianjia_ssid=edd9cda4-e0a7-48e5-8870-dafd2fc64996; srcid=eyJ0Ijoie1wiZGF0YVwiOlwiYmVlZDlkMTEwYzU0MjJkYzU0ZDJiYzg5NDkwZjE5NTcyNGVkY2ZjODQ4MWZlZDllZGExMmZiYTdmMmViZmVjZGMwNDMxOTJkMDYzMjdjNDc1MTEzYzVjZTZmMGRjNjk2MmE1Mjg3MTAxMGQyZTM3MWQ1YWFlMDg0NmMxN2FjMWE2ZDA0MDFhYTEyN2ExNzM2NTQzODZjNzUyZjQ2YmExM2FiZDg1YmI4YjE5YWRmY2MwMzJiYjgxNzZlMDllMjI3YjgzMTZkN2VhMGU1MTcyNGRhNDllOTMxOTJlOGRiNjhlM2U1ZTBjYzhiMjkzMzU3ZGI0OTVmODNiZDg2NTFkZDYyZWMwNzc3ZmJlZTJjOTU0OGJkNDNiOTM1MTllNmZmZDA5MzAwMmE3YzVhMzRjNWVlMjRjYjAzOGNmNGNlN2YyZWQ0MzYzMjMxZmM5ZTQzMjUwNDU1Yzg3ODkyMDI5ZlwiLFwia2V5X2lkXCI6XCIxXCIsXCJzaWduXCI6XCJmNGJhZTkxM1wifSIsInIiOiJodHRwczovL3NoLmxpYW5qaWEuY29tL3p1ZmFuZy8jY29udGVudExpc3QiLCJvcyI6IndlYiIsInYiOiIwLjEifQ==',\n",
    "         }\n",
    "getl = requests.get('https://sh.lianjia.com/zufang/',headers=header).text"
   ]
  },
  {
   "cell_type": "code",
   "execution_count": 29,
   "metadata": {},
   "outputs": [],
   "source": [
    "sp = bs(getl,'lxml')"
   ]
  },
  {
   "cell_type": "code",
   "execution_count": 74,
   "metadata": {},
   "outputs": [],
   "source": [
    "bb = sp.find_all('div',attrs={'class':'content__list--item--main'})"
   ]
  },
  {
   "cell_type": "code",
   "execution_count": 155,
   "metadata": {},
   "outputs": [],
   "source": [
    "b = bb[0].find('p',attrs={'class':'content__list--item--des'})\n",
    "ss=''.join([x.strip() for x in b.strings if x.strip()!=''])"
   ]
  },
  {
   "cell_type": "code",
   "execution_count": null,
   "metadata": {},
   "outputs": [],
   "source": []
  },
  {
   "cell_type": "code",
   "execution_count": 146,
   "metadata": {},
   "outputs": [
    {
     "name": "stdout",
     "output_type": "stream",
     "text": [
      "['徐汇', '-', '上海南站', '-', '光华园', '/', '52㎡', '/', '南 北', '/', '1室1厅1卫', '/', '低楼层                        （6层）']\n"
     ]
    }
   ],
   "source": [
    "s=[]\n",
    "for i in b.strings:\n",
    "    ii=i.strip()\n",
    "    if ii=='':\n",
    "        continue\n",
    "    else:\n",
    "        s.append(ii)\n",
    "print(s)"
   ]
  },
  {
   "cell_type": "code",
   "execution_count": 152,
   "metadata": {},
   "outputs": [
    {
     "data": {
      "text/plain": [
       "['徐汇',\n",
       " '-',\n",
       " '上海南站',\n",
       " '-',\n",
       " '光华园',\n",
       " '/',\n",
       " '52㎡',\n",
       " '/',\n",
       " '南 北',\n",
       " '/',\n",
       " '1室1厅1卫',\n",
       " '/',\n",
       " '低楼层                        （6层）']"
      ]
     },
     "execution_count": 152,
     "metadata": {},
     "output_type": "execute_result"
    }
   ],
   "source": [
    "ss"
   ]
  },
  {
   "cell_type": "code",
   "execution_count": 153,
   "metadata": {},
   "outputs": [],
   "source": [
    "l=''.join(ss)"
   ]
  },
  {
   "cell_type": "code",
   "execution_count": 154,
   "metadata": {},
   "outputs": [
    {
     "data": {
      "text/plain": [
       "'徐汇-上海南站-光华园/52㎡/南 北/1室1厅1卫/低楼层                        （6层）'"
      ]
     },
     "execution_count": 154,
     "metadata": {},
     "output_type": "execute_result"
    }
   ],
   "source": [
    "l"
   ]
  },
  {
   "cell_type": "code",
   "execution_count": 117,
   "metadata": {},
   "outputs": [],
   "source": [
    "l1=''.join(l)"
   ]
  },
  {
   "cell_type": "code",
   "execution_count": 131,
   "metadata": {},
   "outputs": [],
   "source": [
    "l2=l1.split('/')"
   ]
  },
  {
   "cell_type": "code",
   "execution_count": 132,
   "metadata": {},
   "outputs": [],
   "source": [
    "l3=[]\n",
    "for i in l2:\n",
    "    l3.append(i.strip())"
   ]
  },
  {
   "cell_type": "code",
   "execution_count": 133,
   "metadata": {},
   "outputs": [
    {
     "data": {
      "text/plain": [
       "['徐汇-上海南站-光华园', '52㎡', '南 北', '1室1厅1卫', '低楼层                        （6层）']"
      ]
     },
     "execution_count": 133,
     "metadata": {},
     "output_type": "execute_result"
    }
   ],
   "source": [
    "l3"
   ]
  },
  {
   "cell_type": "code",
   "execution_count": 128,
   "metadata": {},
   "outputs": [],
   "source": []
  },
  {
   "cell_type": "code",
   "execution_count": 129,
   "metadata": {},
   "outputs": [
    {
     "data": {
      "text/plain": [
       "['徐汇-上海南站-光华园',\n",
       " '        52㎡        ',\n",
       " '南 北        ',\n",
       " '          1室1厅1卫        ',\n",
       " '          低楼层                        （6层）                  ']"
      ]
     },
     "execution_count": 129,
     "metadata": {},
     "output_type": "execute_result"
    }
   ],
   "source": [
    "l2"
   ]
  },
  {
   "cell_type": "code",
   "execution_count": null,
   "metadata": {},
   "outputs": [],
   "source": []
  }
 ],
 "metadata": {
  "kernelspec": {
   "display_name": "Python 3",
   "language": "python",
   "name": "python3"
  },
  "language_info": {
   "codemirror_mode": {
    "name": "ipython",
    "version": 3
   },
   "file_extension": ".py",
   "mimetype": "text/x-python",
   "name": "python",
   "nbconvert_exporter": "python",
   "pygments_lexer": "ipython3",
   "version": "3.7.1"
  }
 },
 "nbformat": 4,
 "nbformat_minor": 2
}
